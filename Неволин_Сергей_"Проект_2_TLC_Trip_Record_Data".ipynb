{
  "nbformat": 4,
  "nbformat_minor": 0,
  "metadata": {
    "colab": {
      "name": "Неволин Сергей \"Проект 2. TLC Trip Record Data\"",
      "provenance": [],
      "collapsed_sections": [],
      "include_colab_link": true
    },
    "kernelspec": {
      "name": "python3",
      "display_name": "Python 3"
    }
  },
  "cells": [
    {
      "cell_type": "markdown",
      "metadata": {
        "id": "view-in-github",
        "colab_type": "text"
      },
      "source": [
        "<a href=\"https://colab.research.google.com/github/SergeiNevolin/jupyter_notebooks/blob/main/%D0%9D%D0%B5%D0%B2%D0%BE%D0%BB%D0%B8%D0%BD_%D0%A1%D0%B5%D1%80%D0%B3%D0%B5%D0%B9_%22%D0%9F%D1%80%D0%BE%D0%B5%D0%BA%D1%82_2_TLC_Trip_Record_Data%22.ipynb\" target=\"_parent\"><img src=\"https://colab.research.google.com/assets/colab-badge.svg\" alt=\"Open In Colab\"/></a>"
      ]
    },
    {
      "cell_type": "markdown",
      "metadata": {
        "id": "andh5kd4ZQy7"
      },
      "source": [
        "# TLC Trip Record Data\n",
        "Полное описание данных доступно [здесь](https://www1.nyc.gov/site/tlc/about/tlc-trip-record-data.page). Оригинальное описание полей [тут](https://www1.nyc.gov/assets/tlc/downloads/pdf/data_dictionary_trip_records_yellow.pdf)\n",
        "\n",
        "Записи включают поля, в которых указываются даты / время посадки и высадки, места посадки и высадки, расстояния поездки, подробные тарифы, типы тарифов, типы оплаты и количество пассажиров, указанное водителем. Данные, использованные в прилагаемых наборах данных, были собраны и предоставлены в Комиссию по такси и лимузинам Нью-Йорка (TLC) поставщиками технологий, уполномоченными в соответствии с программами повышения качества обслуживания пассажиров такси и ливреи (TPEP / LPEP). Данные поездки не были созданы TLC, и TLC не делает никаких заявлений относительно точности этих данных.\n",
        "\n",
        "Перед вами набор данных о поездках желтых такси в Нью Йорке за январь 2019 года.\n",
        "\n",
        "Нам доступны следующие метаданные:\n",
        "1. VendorID — оператор такси. 1 = Creative Mobile Technologies, 2 = VeriFone Inc. 4 = ?\n",
        "2. tpep_pickup_datetime — дата и время включения счетчика \n",
        "3. tpep_dropoff_datetime — дата и время выключения счетчика\n",
        "4. Passenger_count — кол-во пассажиров (вводится водителем)\n",
        "5. Trip_distance — прошедшее расстояние в милях, указанное таксометром\n",
        "6. PULocationID — Идентификатор зоны в которой счетчик был включен\n",
        "7. DOLocationID — Идентификатор зоны в которой счетчик был выключен\n",
        "8. RateCodeID — тариф в конце поездки\n",
        "\n",
        "1 = Стандартный тариф\n",
        "\n",
        "2 = Аэропорт JFK\n",
        "\n",
        "3 = Ньюарк\n",
        "\n",
        "4 = Нассау или Вестчестер\n",
        "\n",
        "5 = Договорной тариф\n",
        "\n",
        "6 = Групповая поездка\n",
        "\n",
        "9. Store_and_fwd_flag — Этот флаг показывает хранились ли данные о поездке \"внутри машины\", если не было соединения с сервером.\n",
        "10. Payment_type — Код, обозначающий тип оплаты\n",
        "\n",
        "1 = Кредитка\n",
        "\n",
        "2 = Наличные\n",
        "\n",
        "3 = Бесплатно или не было оплаты\n",
        "\n",
        "4 = Спор (диспут)\n",
        "\n",
        "5 = Неизвестно\n",
        "\n",
        "6 = Аннулированная поездка\n",
        "11. Fare_amount — время-дистанция, посчитанная счетчиком (что-то вроде нормированной длины поездки с учетом времени и дистанции, безразмерная величина)\n",
        "12. Extra — Разные прибавки и доплаты. В данный момент включает в себя только 0.5\\$ и 1\\$ в час пик и ночная оплата\n",
        "13. MTA_tax — Metropolitan commuter transportation mobility tax. Налог, выставляемый автоматически по пробегу\n",
        "14. Improvement_surcharge — надбавка за благоустройство 0.30\\$ (появилась в 2015)\n",
        "15. Tip_amount — чаевые, заполняется автоматически для кредитных карт, наличные не считаются\n",
        "16. Tolls_amount — Общая сумма всех сборов за поездку (налоговых и проч)\n",
        "17. Total_amount — Суммарная стоимость\n",
        "18. congestion_surcharge — сбор за пробки\n",
        "\n",
        "FYI\n",
        "[Разница между желтым и зеленым такси](https://freetoursbyfoot.com/taxi-guide-hailing-cab-nyc/) и еще [тут](https://en.wikipedia.org/wiki/Boro_taxi)"
      ]
    },
    {
      "cell_type": "code",
      "metadata": {
        "id": "OzUpm6bAWoR3",
        "colab": {
          "base_uri": "https://localhost:8080/"
        },
        "outputId": "1617c3ae-758d-419a-8cbb-329163ffbc7e"
      },
      "source": [
        "from google.colab import drive\n",
        "drive.mount('/content/drive')"
      ],
      "execution_count": 45,
      "outputs": [
        {
          "output_type": "stream",
          "text": [
            "Drive already mounted at /content/drive; to attempt to forcibly remount, call drive.mount(\"/content/drive\", force_remount=True).\n"
          ],
          "name": "stdout"
        }
      ]
    },
    {
      "cell_type": "markdown",
      "metadata": {
        "id": "4c7W8_hStTym"
      },
      "source": [
        "# Задание\n",
        "1. Проведите ABC анализ по стартовым-конечным локациям поездок. Существенно ли результаты анализа различаются в разбивке по операторам такси?\n",
        "2. Проведите XYZ анализ по стартовым-конечным локациям поездок. Существенно ли результаты анализа различаются в разбивке по операторам такси?\n",
        "3. Для нескольких одинаковых зон посадки и высадки (штук 5) сравните средние значения длительности поездки для операторов 1 и 2. Проверьте истинность гипотезы о равенстве среднего времени для выбранных маршрутов с помощью t критерия и pvalue ([модуль stats](https://docs.scipy.org/doc/scipy/reference/generated/scipy.stats.ttest_ind.html))\n",
        "4. В базе student_x создайте таблицу для загрузки этого набора данных. Загрузите набор данных в созданную таблицу, и затем в redash постройте дэшборд отражающий кол-во поездок каждый день в разбивке по операторам такси, а также общую сумму выручки за вычетом налогов."
      ]
    },
    {
      "cell_type": "markdown",
      "metadata": {
        "id": "_9dMmhQWtZw2"
      },
      "source": [
        "Загрузить данные можно по аналогии, для этого нужно \"подсоединить\" свой гугл драйв к ноутбуку\n",
        "https://drive.google.com/file/d/1xWbT8jYI-YrrOD991NODC9zRlzmQAoQ3/view?usp=sharing \n",
        "\n",
        "Предварительно нужно скопировать данные себе на гугл драйв. Самый простой способ это \"создать ярлык\", чтобы не скачивать, а потом не загружать 600мб данных\n",
        "https://drive.google.com/file/d/1eIQC77qhkAdzoigmXR6jo2jLBCISx3vP/view?usp=sharing"
      ]
    },
    {
      "cell_type": "code",
      "metadata": {
        "id": "3iUtPU6jZav6",
        "colab": {
          "base_uri": "https://localhost:8080/",
          "height": 226
        },
        "outputId": "931a89ae-f556-47f6-e644-09a4796dae56"
      },
      "source": [
        "import numpy as np\n",
        "import pandas as pd\n",
        "from matplotlib import pyplot as plt\n",
        "\n",
        "data = pd.read_csv('/content/drive/My Drive/yellow_tripdata_2019-01.csv')\n",
        "data.head(5)"
      ],
      "execution_count": 3,
      "outputs": [
        {
          "output_type": "execute_result",
          "data": {
            "text/html": [
              "<div>\n",
              "<style scoped>\n",
              "    .dataframe tbody tr th:only-of-type {\n",
              "        vertical-align: middle;\n",
              "    }\n",
              "\n",
              "    .dataframe tbody tr th {\n",
              "        vertical-align: top;\n",
              "    }\n",
              "\n",
              "    .dataframe thead th {\n",
              "        text-align: right;\n",
              "    }\n",
              "</style>\n",
              "<table border=\"1\" class=\"dataframe\">\n",
              "  <thead>\n",
              "    <tr style=\"text-align: right;\">\n",
              "      <th></th>\n",
              "      <th>VendorID</th>\n",
              "      <th>tpep_pickup_datetime</th>\n",
              "      <th>tpep_dropoff_datetime</th>\n",
              "      <th>passenger_count</th>\n",
              "      <th>trip_distance</th>\n",
              "      <th>RatecodeID</th>\n",
              "      <th>store_and_fwd_flag</th>\n",
              "      <th>PULocationID</th>\n",
              "      <th>DOLocationID</th>\n",
              "      <th>payment_type</th>\n",
              "      <th>fare_amount</th>\n",
              "      <th>extra</th>\n",
              "      <th>mta_tax</th>\n",
              "      <th>tip_amount</th>\n",
              "      <th>tolls_amount</th>\n",
              "      <th>improvement_surcharge</th>\n",
              "      <th>total_amount</th>\n",
              "      <th>congestion_surcharge</th>\n",
              "    </tr>\n",
              "  </thead>\n",
              "  <tbody>\n",
              "    <tr>\n",
              "      <th>0</th>\n",
              "      <td>1</td>\n",
              "      <td>2019-01-01 00:46:40</td>\n",
              "      <td>2019-01-01 00:53:20</td>\n",
              "      <td>1</td>\n",
              "      <td>1.5</td>\n",
              "      <td>1</td>\n",
              "      <td>N</td>\n",
              "      <td>151</td>\n",
              "      <td>239</td>\n",
              "      <td>1</td>\n",
              "      <td>7.0</td>\n",
              "      <td>0.5</td>\n",
              "      <td>0.5</td>\n",
              "      <td>1.65</td>\n",
              "      <td>0.0</td>\n",
              "      <td>0.3</td>\n",
              "      <td>9.95</td>\n",
              "      <td>NaN</td>\n",
              "    </tr>\n",
              "    <tr>\n",
              "      <th>1</th>\n",
              "      <td>1</td>\n",
              "      <td>2019-01-01 00:59:47</td>\n",
              "      <td>2019-01-01 01:18:59</td>\n",
              "      <td>1</td>\n",
              "      <td>2.6</td>\n",
              "      <td>1</td>\n",
              "      <td>N</td>\n",
              "      <td>239</td>\n",
              "      <td>246</td>\n",
              "      <td>1</td>\n",
              "      <td>14.0</td>\n",
              "      <td>0.5</td>\n",
              "      <td>0.5</td>\n",
              "      <td>1.00</td>\n",
              "      <td>0.0</td>\n",
              "      <td>0.3</td>\n",
              "      <td>16.30</td>\n",
              "      <td>NaN</td>\n",
              "    </tr>\n",
              "    <tr>\n",
              "      <th>2</th>\n",
              "      <td>2</td>\n",
              "      <td>2018-12-21 13:48:30</td>\n",
              "      <td>2018-12-21 13:52:40</td>\n",
              "      <td>3</td>\n",
              "      <td>0.0</td>\n",
              "      <td>1</td>\n",
              "      <td>N</td>\n",
              "      <td>236</td>\n",
              "      <td>236</td>\n",
              "      <td>1</td>\n",
              "      <td>4.5</td>\n",
              "      <td>0.5</td>\n",
              "      <td>0.5</td>\n",
              "      <td>0.00</td>\n",
              "      <td>0.0</td>\n",
              "      <td>0.3</td>\n",
              "      <td>5.80</td>\n",
              "      <td>NaN</td>\n",
              "    </tr>\n",
              "    <tr>\n",
              "      <th>3</th>\n",
              "      <td>2</td>\n",
              "      <td>2018-11-28 15:52:25</td>\n",
              "      <td>2018-11-28 15:55:45</td>\n",
              "      <td>5</td>\n",
              "      <td>0.0</td>\n",
              "      <td>1</td>\n",
              "      <td>N</td>\n",
              "      <td>193</td>\n",
              "      <td>193</td>\n",
              "      <td>2</td>\n",
              "      <td>3.5</td>\n",
              "      <td>0.5</td>\n",
              "      <td>0.5</td>\n",
              "      <td>0.00</td>\n",
              "      <td>0.0</td>\n",
              "      <td>0.3</td>\n",
              "      <td>7.55</td>\n",
              "      <td>NaN</td>\n",
              "    </tr>\n",
              "    <tr>\n",
              "      <th>4</th>\n",
              "      <td>2</td>\n",
              "      <td>2018-11-28 15:56:57</td>\n",
              "      <td>2018-11-28 15:58:33</td>\n",
              "      <td>5</td>\n",
              "      <td>0.0</td>\n",
              "      <td>2</td>\n",
              "      <td>N</td>\n",
              "      <td>193</td>\n",
              "      <td>193</td>\n",
              "      <td>2</td>\n",
              "      <td>52.0</td>\n",
              "      <td>0.0</td>\n",
              "      <td>0.5</td>\n",
              "      <td>0.00</td>\n",
              "      <td>0.0</td>\n",
              "      <td>0.3</td>\n",
              "      <td>55.55</td>\n",
              "      <td>NaN</td>\n",
              "    </tr>\n",
              "  </tbody>\n",
              "</table>\n",
              "</div>"
            ],
            "text/plain": [
              "   VendorID tpep_pickup_datetime  ... total_amount  congestion_surcharge\n",
              "0         1  2019-01-01 00:46:40  ...         9.95                   NaN\n",
              "1         1  2019-01-01 00:59:47  ...        16.30                   NaN\n",
              "2         2  2018-12-21 13:48:30  ...         5.80                   NaN\n",
              "3         2  2018-11-28 15:52:25  ...         7.55                   NaN\n",
              "4         2  2018-11-28 15:56:57  ...        55.55                   NaN\n",
              "\n",
              "[5 rows x 18 columns]"
            ]
          },
          "metadata": {
            "tags": []
          },
          "execution_count": 3
        }
      ]
    },
    {
      "cell_type": "code",
      "metadata": {
        "id": "HP4IIoB2wbIQ",
        "colab": {
          "base_uri": "https://localhost:8080/",
          "height": 320
        },
        "outputId": "67c21768-4256-477f-857d-d69f28328644"
      },
      "source": [
        "data.describe()"
      ],
      "execution_count": null,
      "outputs": [
        {
          "output_type": "execute_result",
          "data": {
            "text/html": [
              "<div>\n",
              "<style scoped>\n",
              "    .dataframe tbody tr th:only-of-type {\n",
              "        vertical-align: middle;\n",
              "    }\n",
              "\n",
              "    .dataframe tbody tr th {\n",
              "        vertical-align: top;\n",
              "    }\n",
              "\n",
              "    .dataframe thead th {\n",
              "        text-align: right;\n",
              "    }\n",
              "</style>\n",
              "<table border=\"1\" class=\"dataframe\">\n",
              "  <thead>\n",
              "    <tr style=\"text-align: right;\">\n",
              "      <th></th>\n",
              "      <th>VendorID</th>\n",
              "      <th>passenger_count</th>\n",
              "      <th>trip_distance</th>\n",
              "      <th>RatecodeID</th>\n",
              "      <th>PULocationID</th>\n",
              "      <th>DOLocationID</th>\n",
              "      <th>payment_type</th>\n",
              "      <th>fare_amount</th>\n",
              "      <th>extra</th>\n",
              "      <th>mta_tax</th>\n",
              "      <th>tip_amount</th>\n",
              "      <th>tolls_amount</th>\n",
              "      <th>improvement_surcharge</th>\n",
              "      <th>total_amount</th>\n",
              "      <th>congestion_surcharge</th>\n",
              "    </tr>\n",
              "  </thead>\n",
              "  <tbody>\n",
              "    <tr>\n",
              "      <th>count</th>\n",
              "      <td>7.667792e+06</td>\n",
              "      <td>7.667792e+06</td>\n",
              "      <td>7.667792e+06</td>\n",
              "      <td>7.667792e+06</td>\n",
              "      <td>7.667792e+06</td>\n",
              "      <td>7.667792e+06</td>\n",
              "      <td>7.667792e+06</td>\n",
              "      <td>7.667792e+06</td>\n",
              "      <td>7.667792e+06</td>\n",
              "      <td>7.667792e+06</td>\n",
              "      <td>7.667792e+06</td>\n",
              "      <td>7.667792e+06</td>\n",
              "      <td>7.667792e+06</td>\n",
              "      <td>7.667792e+06</td>\n",
              "      <td>2.811814e+06</td>\n",
              "    </tr>\n",
              "    <tr>\n",
              "      <th>mean</th>\n",
              "      <td>1.636775e+00</td>\n",
              "      <td>1.567078e+00</td>\n",
              "      <td>2.801084e+00</td>\n",
              "      <td>1.058371e+00</td>\n",
              "      <td>1.655009e+02</td>\n",
              "      <td>1.637529e+02</td>\n",
              "      <td>1.291776e+00</td>\n",
              "      <td>1.240941e+01</td>\n",
              "      <td>3.280394e-01</td>\n",
              "      <td>4.968458e-01</td>\n",
              "      <td>1.827367e+00</td>\n",
              "      <td>3.169187e-01</td>\n",
              "      <td>2.993382e-01</td>\n",
              "      <td>1.568222e+01</td>\n",
              "      <td>3.289691e-05</td>\n",
              "    </tr>\n",
              "    <tr>\n",
              "      <th>std</th>\n",
              "      <td>5.398204e-01</td>\n",
              "      <td>1.224431e+00</td>\n",
              "      <td>3.737529e+00</td>\n",
              "      <td>6.780889e-01</td>\n",
              "      <td>6.639180e+01</td>\n",
              "      <td>7.036445e+01</td>\n",
              "      <td>4.733229e-01</td>\n",
              "      <td>2.620721e+02</td>\n",
              "      <td>5.074789e-01</td>\n",
              "      <td>5.337843e-02</td>\n",
              "      <td>2.501213e+00</td>\n",
              "      <td>2.023665e+00</td>\n",
              "      <td>1.911711e-02</td>\n",
              "      <td>2.622932e+02</td>\n",
              "      <td>9.068695e-03</td>\n",
              "    </tr>\n",
              "    <tr>\n",
              "      <th>min</th>\n",
              "      <td>1.000000e+00</td>\n",
              "      <td>0.000000e+00</td>\n",
              "      <td>0.000000e+00</td>\n",
              "      <td>1.000000e+00</td>\n",
              "      <td>1.000000e+00</td>\n",
              "      <td>1.000000e+00</td>\n",
              "      <td>1.000000e+00</td>\n",
              "      <td>-3.620000e+02</td>\n",
              "      <td>-6.000000e+01</td>\n",
              "      <td>-5.000000e-01</td>\n",
              "      <td>-6.350000e+01</td>\n",
              "      <td>-7.000000e+01</td>\n",
              "      <td>-3.000000e-01</td>\n",
              "      <td>-3.628000e+02</td>\n",
              "      <td>0.000000e+00</td>\n",
              "    </tr>\n",
              "    <tr>\n",
              "      <th>25%</th>\n",
              "      <td>1.000000e+00</td>\n",
              "      <td>1.000000e+00</td>\n",
              "      <td>9.000000e-01</td>\n",
              "      <td>1.000000e+00</td>\n",
              "      <td>1.300000e+02</td>\n",
              "      <td>1.130000e+02</td>\n",
              "      <td>1.000000e+00</td>\n",
              "      <td>6.000000e+00</td>\n",
              "      <td>0.000000e+00</td>\n",
              "      <td>5.000000e-01</td>\n",
              "      <td>0.000000e+00</td>\n",
              "      <td>0.000000e+00</td>\n",
              "      <td>3.000000e-01</td>\n",
              "      <td>8.190000e+00</td>\n",
              "      <td>0.000000e+00</td>\n",
              "    </tr>\n",
              "    <tr>\n",
              "      <th>50%</th>\n",
              "      <td>2.000000e+00</td>\n",
              "      <td>1.000000e+00</td>\n",
              "      <td>1.530000e+00</td>\n",
              "      <td>1.000000e+00</td>\n",
              "      <td>1.620000e+02</td>\n",
              "      <td>1.620000e+02</td>\n",
              "      <td>1.000000e+00</td>\n",
              "      <td>8.500000e+00</td>\n",
              "      <td>0.000000e+00</td>\n",
              "      <td>5.000000e-01</td>\n",
              "      <td>1.430000e+00</td>\n",
              "      <td>0.000000e+00</td>\n",
              "      <td>3.000000e-01</td>\n",
              "      <td>1.127000e+01</td>\n",
              "      <td>0.000000e+00</td>\n",
              "    </tr>\n",
              "    <tr>\n",
              "      <th>75%</th>\n",
              "      <td>2.000000e+00</td>\n",
              "      <td>2.000000e+00</td>\n",
              "      <td>2.800000e+00</td>\n",
              "      <td>1.000000e+00</td>\n",
              "      <td>2.340000e+02</td>\n",
              "      <td>2.340000e+02</td>\n",
              "      <td>2.000000e+00</td>\n",
              "      <td>1.350000e+01</td>\n",
              "      <td>5.000000e-01</td>\n",
              "      <td>5.000000e-01</td>\n",
              "      <td>2.330000e+00</td>\n",
              "      <td>0.000000e+00</td>\n",
              "      <td>3.000000e-01</td>\n",
              "      <td>1.656000e+01</td>\n",
              "      <td>0.000000e+00</td>\n",
              "    </tr>\n",
              "    <tr>\n",
              "      <th>max</th>\n",
              "      <td>4.000000e+00</td>\n",
              "      <td>9.000000e+00</td>\n",
              "      <td>8.318000e+02</td>\n",
              "      <td>9.900000e+01</td>\n",
              "      <td>2.650000e+02</td>\n",
              "      <td>2.650000e+02</td>\n",
              "      <td>4.000000e+00</td>\n",
              "      <td>6.232599e+05</td>\n",
              "      <td>5.353800e+02</td>\n",
              "      <td>6.080000e+01</td>\n",
              "      <td>7.872500e+02</td>\n",
              "      <td>3.288000e+03</td>\n",
              "      <td>6.000000e-01</td>\n",
              "      <td>6.232617e+05</td>\n",
              "      <td>2.500000e+00</td>\n",
              "    </tr>\n",
              "  </tbody>\n",
              "</table>\n",
              "</div>"
            ],
            "text/plain": [
              "           VendorID  passenger_count  ...  total_amount  congestion_surcharge\n",
              "count  7.667792e+06     7.667792e+06  ...  7.667792e+06          2.811814e+06\n",
              "mean   1.636775e+00     1.567078e+00  ...  1.568222e+01          3.289691e-05\n",
              "std    5.398204e-01     1.224431e+00  ...  2.622932e+02          9.068695e-03\n",
              "min    1.000000e+00     0.000000e+00  ... -3.628000e+02          0.000000e+00\n",
              "25%    1.000000e+00     1.000000e+00  ...  8.190000e+00          0.000000e+00\n",
              "50%    2.000000e+00     1.000000e+00  ...  1.127000e+01          0.000000e+00\n",
              "75%    2.000000e+00     2.000000e+00  ...  1.656000e+01          0.000000e+00\n",
              "max    4.000000e+00     9.000000e+00  ...  6.232617e+05          2.500000e+00\n",
              "\n",
              "[8 rows x 15 columns]"
            ]
          },
          "metadata": {
            "tags": []
          },
          "execution_count": 38
        }
      ]
    },
    {
      "cell_type": "code",
      "metadata": {
        "colab": {
          "base_uri": "https://localhost:8080/"
        },
        "id": "4ooJWfk_S3Ok",
        "outputId": "e7fedb67-54f0-4d72-bc15-7758b1908714"
      },
      "source": [
        "data.info()"
      ],
      "execution_count": null,
      "outputs": [
        {
          "output_type": "stream",
          "text": [
            "<class 'pandas.core.frame.DataFrame'>\n",
            "RangeIndex: 7667792 entries, 0 to 7667791\n",
            "Data columns (total 18 columns):\n",
            " #   Column                 Dtype  \n",
            "---  ------                 -----  \n",
            " 0   VendorID               int64  \n",
            " 1   tpep_pickup_datetime   object \n",
            " 2   tpep_dropoff_datetime  object \n",
            " 3   passenger_count        int64  \n",
            " 4   trip_distance          float64\n",
            " 5   RatecodeID             int64  \n",
            " 6   store_and_fwd_flag     object \n",
            " 7   PULocationID           int64  \n",
            " 8   DOLocationID           int64  \n",
            " 9   payment_type           int64  \n",
            " 10  fare_amount            float64\n",
            " 11  extra                  float64\n",
            " 12  mta_tax                float64\n",
            " 13  tip_amount             float64\n",
            " 14  tolls_amount           float64\n",
            " 15  improvement_surcharge  float64\n",
            " 16  total_amount           float64\n",
            " 17  congestion_surcharge   float64\n",
            "dtypes: float64(9), int64(6), object(3)\n",
            "memory usage: 1.0+ GB\n"
          ],
          "name": "stdout"
        }
      ]
    },
    {
      "cell_type": "markdown",
      "metadata": {
        "id": "zr0CiIIMLao4"
      },
      "source": [
        "Приведение колонок к правильным типам."
      ]
    },
    {
      "cell_type": "code",
      "metadata": {
        "colab": {
          "base_uri": "https://localhost:8080/"
        },
        "id": "UcLzYUgYTdU8",
        "outputId": "f0ba3a6b-044b-49a2-e7fc-15978f250cb5"
      },
      "source": [
        "data = data.astype({'tpep_pickup_datetime':  'datetime64[ms]'})\n",
        "data = data.astype({'tpep_dropoff_datetime':  'datetime64[ms]'})\n",
        "data = data.replace({'store_and_fwd_flag': {'Y': True, 'N': False}})\n",
        "data.dtypes"
      ],
      "execution_count": 4,
      "outputs": [
        {
          "output_type": "execute_result",
          "data": {
            "text/plain": [
              "VendorID                          int64\n",
              "tpep_pickup_datetime     datetime64[ns]\n",
              "tpep_dropoff_datetime    datetime64[ns]\n",
              "passenger_count                   int64\n",
              "trip_distance                   float64\n",
              "RatecodeID                        int64\n",
              "store_and_fwd_flag                 bool\n",
              "PULocationID                      int64\n",
              "DOLocationID                      int64\n",
              "payment_type                      int64\n",
              "fare_amount                     float64\n",
              "extra                           float64\n",
              "mta_tax                         float64\n",
              "tip_amount                      float64\n",
              "tolls_amount                    float64\n",
              "improvement_surcharge           float64\n",
              "total_amount                    float64\n",
              "congestion_surcharge            float64\n",
              "dtype: object"
            ]
          },
          "metadata": {
            "tags": []
          },
          "execution_count": 4
        }
      ]
    },
    {
      "cell_type": "markdown",
      "metadata": {
        "id": "kpwnJ4oYLi3v"
      },
      "source": [
        "##**1**. ABC анализ."
      ]
    },
    {
      "cell_type": "markdown",
      "metadata": {
        "id": "rtsfshaJLo9E"
      },
      "source": [
        "Посчитаем суммарную выручку, и для каждого маршрута посмотрим какой вклад в общую выручку вносит каждый маршрут.\n",
        "\n",
        "\n",
        "Отсортируем список с процентами \"вклада\", посчитаем еще один столбец с кумулятивной суммой по процентам."
      ]
    },
    {
      "cell_type": "code",
      "metadata": {
        "colab": {
          "base_uri": "https://localhost:8080/"
        },
        "id": "ZQM7wNZaiZXQ",
        "outputId": "189dc290-bd81-470b-e351-170451979be6"
      },
      "source": [
        "summary = data['total_amount'].sum()\n",
        "routes = data.groupby(['PULocationID', 'DOLocationID'])['total_amount'].sum() / summary\n",
        "routes = routes.sort_values(ascending=False)\n",
        "routes = routes[routes > 0.0]\n",
        "routes"
      ],
      "execution_count": null,
      "outputs": [
        {
          "output_type": "execute_result",
          "data": {
            "text/plain": [
              "PULocationID  DOLocationID\n",
              "264           264             2.021074e-02\n",
              "237           90              5.393393e-03\n",
              "138           230             4.126241e-03\n",
              "132           230             4.004995e-03\n",
              "              265             3.780937e-03\n",
              "                                  ...     \n",
              "160           265             2.578005e-09\n",
              "84            84              2.578005e-09\n",
              "241           264             2.494844e-09\n",
              "70            98              2.494844e-09\n",
              "241           145             2.494844e-09\n",
              "Name: total_amount, Length: 32230, dtype: float64"
            ]
          },
          "metadata": {
            "tags": []
          },
          "execution_count": 4
        }
      ]
    },
    {
      "cell_type": "code",
      "metadata": {
        "colab": {
          "base_uri": "https://localhost:8080/"
        },
        "id": "xyYwkeRzLFNY",
        "outputId": "2d059f64-fbd3-4cf4-c03e-928ddb847bc6"
      },
      "source": [
        "routes_cumsum = routes.cumsum()\n",
        "routes_cumsum"
      ],
      "execution_count": null,
      "outputs": [
        {
          "output_type": "execute_result",
          "data": {
            "text/plain": [
              "PULocationID  DOLocationID\n",
              "264           264             0.020211\n",
              "237           90              0.025604\n",
              "138           230             0.029730\n",
              "132           230             0.033735\n",
              "              265             0.037516\n",
              "                                ...   \n",
              "160           265             1.000000\n",
              "84            84              1.000000\n",
              "241           264             1.000000\n",
              "70            98              1.000000\n",
              "241           145             1.000000\n",
              "Name: total_amount, Length: 32230, dtype: float64"
            ]
          },
          "metadata": {
            "tags": []
          },
          "execution_count": 5
        }
      ]
    },
    {
      "cell_type": "markdown",
      "metadata": {
        "id": "OaPyA7eqOIVV"
      },
      "source": [
        "На основе полученной таблицы, определим группы ABC."
      ]
    },
    {
      "cell_type": "code",
      "metadata": {
        "colab": {
          "base_uri": "https://localhost:8080/"
        },
        "id": "5Bfi51ISOPFz",
        "outputId": "887d081f-5ac9-4bc0-cd1e-a1a7a30e81e4"
      },
      "source": [
        "def ABC_segmentation(perc):\n",
        "  if perc < 0.8:\n",
        "    return 'A'\n",
        "  if perc >= 0.8 and perc < 0.95:\n",
        "    return 'B'\n",
        "  if perc >= 0.95:\n",
        "    return 'C'\n",
        "routes_abc = routes_cumsum.apply(ABC_segmentation)\n",
        "routes_abc"
      ],
      "execution_count": null,
      "outputs": [
        {
          "output_type": "execute_result",
          "data": {
            "text/plain": [
              "PULocationID  DOLocationID\n",
              "264           264             A\n",
              "237           90              A\n",
              "138           230             A\n",
              "132           230             A\n",
              "              265             A\n",
              "                             ..\n",
              "160           265             C\n",
              "84            84              C\n",
              "241           264             C\n",
              "70            98              C\n",
              "241           145             C\n",
              "Name: total_amount, Length: 32230, dtype: object"
            ]
          },
          "metadata": {
            "tags": []
          },
          "execution_count": 6
        }
      ]
    },
    {
      "cell_type": "code",
      "metadata": {
        "colab": {
          "base_uri": "https://localhost:8080/"
        },
        "id": "XFG2TfL-QPs1",
        "outputId": "6ce39183-edb0-4e66-bcc8-21b38574eeb2"
      },
      "source": [
        "routes_abc.value_counts()"
      ],
      "execution_count": null,
      "outputs": [
        {
          "output_type": "execute_result",
          "data": {
            "text/plain": [
              "C    26074\n",
              "B     4126\n",
              "A     2030\n",
              "Name: total_amount, dtype: int64"
            ]
          },
          "metadata": {
            "tags": []
          },
          "execution_count": 7
        }
      ]
    },
    {
      "cell_type": "code",
      "metadata": {
        "colab": {
          "base_uri": "https://localhost:8080/",
          "height": 280
        },
        "id": "uX4sn9CgQczP",
        "outputId": "6d97a74f-1a40-44fb-b54b-37cbe1bf06e4"
      },
      "source": [
        "routes_abc.value_counts().plot(kind='bar')"
      ],
      "execution_count": null,
      "outputs": [
        {
          "output_type": "execute_result",
          "data": {
            "text/plain": [
              "<matplotlib.axes._subplots.AxesSubplot at 0x7f2e26171310>"
            ]
          },
          "metadata": {
            "tags": []
          },
          "execution_count": 8
        },
        {
          "output_type": "display_data",
          "data": {
            "image/png": "[encoded data removed]",
            "text/plain": [
              "<Figure size 432x288 with 1 Axes>"
            ]
          },
          "metadata": {
            "tags": [],
            "needs_background": "light"
          }
        }
      ]
    },
    {
      "cell_type": "markdown",
      "metadata": {
        "id": "iHE7DZ8sT3-G"
      },
      "source": [
        "Категория C составляет 80%\n",
        "\n",
        "Категория B - 13%\n",
        "\n",
        "Категория A - 6%\n",
        "\n",
        "Количество маршрутов в категории С завышено. Принцип Парето выполняется не четко.\n"
      ]
    },
    {
      "cell_type": "markdown",
      "metadata": {
        "id": "fCC9Dx3c2n6P"
      },
      "source": [
        "##АВС анализ в разбивке по операторам.\n",
        "\n",
        "\n"
      ]
    },
    {
      "cell_type": "code",
      "metadata": {
        "colab": {
          "base_uri": "https://localhost:8080/",
          "height": 175
        },
        "id": "qouTXYxkyF4k",
        "outputId": "bf92d27d-cb2b-45dd-dadf-e1fe0fad5d4d"
      },
      "source": [
        "vendor_routes = data.groupby(['VendorID', 'PULocationID', 'DOLocationID'])['total_amount'].sum() / summary\n",
        "vendor_routes = vendor_routes.sort_values(ascending=False)\n",
        "vendor_routes = vendor_routes[vendor_routes > 0.0]\n",
        "vendor_routes_cumsum = vendor_routes.cumsum()\n",
        "vendor_routes_abc = vendor_routes_cumsum.apply(ABC_segmentation)\n",
        "vendor_routes_abc.reset_index().groupby('VendorID')['total_amount'].value_counts().unstack()"
      ],
      "execution_count": null,
      "outputs": [
        {
          "output_type": "execute_result",
          "data": {
            "text/html": [
              "<div>\n",
              "<style scoped>\n",
              "    .dataframe tbody tr th:only-of-type {\n",
              "        vertical-align: middle;\n",
              "    }\n",
              "\n",
              "    .dataframe tbody tr th {\n",
              "        vertical-align: top;\n",
              "    }\n",
              "\n",
              "    .dataframe thead th {\n",
              "        text-align: right;\n",
              "    }\n",
              "</style>\n",
              "<table border=\"1\" class=\"dataframe\">\n",
              "  <thead>\n",
              "    <tr style=\"text-align: right;\">\n",
              "      <th>total_amount</th>\n",
              "      <th>A</th>\n",
              "      <th>B</th>\n",
              "      <th>C</th>\n",
              "    </tr>\n",
              "    <tr>\n",
              "      <th>VendorID</th>\n",
              "      <th></th>\n",
              "      <th></th>\n",
              "      <th></th>\n",
              "    </tr>\n",
              "  </thead>\n",
              "  <tbody>\n",
              "    <tr>\n",
              "      <th>1</th>\n",
              "      <td>1745.0</td>\n",
              "      <td>3665.0</td>\n",
              "      <td>15590.0</td>\n",
              "    </tr>\n",
              "    <tr>\n",
              "      <th>2</th>\n",
              "      <td>2375.0</td>\n",
              "      <td>4940.0</td>\n",
              "      <td>22631.0</td>\n",
              "    </tr>\n",
              "    <tr>\n",
              "      <th>4</th>\n",
              "      <td>NaN</td>\n",
              "      <td>457.0</td>\n",
              "      <td>5216.0</td>\n",
              "    </tr>\n",
              "  </tbody>\n",
              "</table>\n",
              "</div>"
            ],
            "text/plain": [
              "total_amount       A       B        C\n",
              "VendorID                             \n",
              "1             1745.0  3665.0  15590.0\n",
              "2             2375.0  4940.0  22631.0\n",
              "4                NaN   457.0   5216.0"
            ]
          },
          "metadata": {
            "tags": []
          },
          "execution_count": 30
        }
      ]
    },
    {
      "cell_type": "code",
      "metadata": {
        "colab": {
          "base_uri": "https://localhost:8080/",
          "height": 566
        },
        "id": "tW-u0jdAbd1-",
        "outputId": "42558e90-7964-4dd7-db2a-99b863c86e18"
      },
      "source": [
        "vendor_routes_abc.reset_index().groupby('VendorID')['total_amount'].value_counts().unstack().plot(kind='bar', figsize=(20,9))"
      ],
      "execution_count": null,
      "outputs": [
        {
          "output_type": "execute_result",
          "data": {
            "text/plain": [
              "<matplotlib.axes._subplots.AxesSubplot at 0x7f2e26a837d0>"
            ]
          },
          "metadata": {
            "tags": []
          },
          "execution_count": 10
        },
        {
          "output_type": "display_data",
          "data": {
            "image/png": "[encoded data removed]",
            "text/plain": [
              "<Figure size 1440x648 with 1 Axes>"
            ]
          },
          "metadata": {
            "tags": [],
            "needs_background": "light"
          }
        }
      ]
    },
    {
      "cell_type": "markdown",
      "metadata": {
        "id": "HjRTq4kumaau"
      },
      "source": [
        "Можно увидеть, что результаты анализа имеют несущественные различия в разбивке по 1 и 2 оператору. \n",
        "\n",
        "У 4 оператора отсутствует категория А. Категория В составляет малый процент."
      ]
    },
    {
      "cell_type": "markdown",
      "metadata": {
        "id": "LZQ4hi_tramt"
      },
      "source": [
        "##2. XYZ анализ"
      ]
    },
    {
      "cell_type": "markdown",
      "metadata": {
        "id": "KEvRNhrVnqqU"
      },
      "source": [
        "Получим из данных номер дня недели и час, в который был совершен заказ, для дальнейшего рассчета волатильности. "
      ]
    },
    {
      "cell_type": "code",
      "metadata": {
        "id": "G62JqkjP1rdp",
        "colab": {
          "base_uri": "https://localhost:8080/",
          "height": 444
        },
        "outputId": "3b8daa56-5147-4263-d04b-7ce8425eaaf1"
      },
      "source": [
        "data['weekday_number'] = data['tpep_pickup_datetime'].dt.weekday\n",
        "data['hour'] = data['tpep_pickup_datetime'].dt.hour\n",
        "data"
      ],
      "execution_count": null,
      "outputs": [
        {
          "output_type": "execute_result",
          "data": {
            "text/html": [
              "<div>\n",
              "<style scoped>\n",
              "    .dataframe tbody tr th:only-of-type {\n",
              "        vertical-align: middle;\n",
              "    }\n",
              "\n",
              "    .dataframe tbody tr th {\n",
              "        vertical-align: top;\n",
              "    }\n",
              "\n",
              "    .dataframe thead th {\n",
              "        text-align: right;\n",
              "    }\n",
              "</style>\n",
              "<table border=\"1\" class=\"dataframe\">\n",
              "  <thead>\n",
              "    <tr style=\"text-align: right;\">\n",
              "      <th></th>\n",
              "      <th>VendorID</th>\n",
              "      <th>tpep_pickup_datetime</th>\n",
              "      <th>tpep_dropoff_datetime</th>\n",
              "      <th>passenger_count</th>\n",
              "      <th>trip_distance</th>\n",
              "      <th>RatecodeID</th>\n",
              "      <th>store_and_fwd_flag</th>\n",
              "      <th>PULocationID</th>\n",
              "      <th>DOLocationID</th>\n",
              "      <th>payment_type</th>\n",
              "      <th>fare_amount</th>\n",
              "      <th>extra</th>\n",
              "      <th>mta_tax</th>\n",
              "      <th>tip_amount</th>\n",
              "      <th>tolls_amount</th>\n",
              "      <th>improvement_surcharge</th>\n",
              "      <th>total_amount</th>\n",
              "      <th>congestion_surcharge</th>\n",
              "      <th>weekday_number</th>\n",
              "      <th>hour</th>\n",
              "    </tr>\n",
              "  </thead>\n",
              "  <tbody>\n",
              "    <tr>\n",
              "      <th>0</th>\n",
              "      <td>1</td>\n",
              "      <td>2019-01-01 00:46:40</td>\n",
              "      <td>2019-01-01 00:53:20</td>\n",
              "      <td>1</td>\n",
              "      <td>1.50</td>\n",
              "      <td>1</td>\n",
              "      <td>False</td>\n",
              "      <td>151</td>\n",
              "      <td>239</td>\n",
              "      <td>1</td>\n",
              "      <td>7.0</td>\n",
              "      <td>0.5</td>\n",
              "      <td>0.5</td>\n",
              "      <td>1.65</td>\n",
              "      <td>0.0</td>\n",
              "      <td>0.3</td>\n",
              "      <td>9.95</td>\n",
              "      <td>NaN</td>\n",
              "      <td>1</td>\n",
              "      <td>0</td>\n",
              "    </tr>\n",
              "    <tr>\n",
              "      <th>1</th>\n",
              "      <td>1</td>\n",
              "      <td>2019-01-01 00:59:47</td>\n",
              "      <td>2019-01-01 01:18:59</td>\n",
              "      <td>1</td>\n",
              "      <td>2.60</td>\n",
              "      <td>1</td>\n",
              "      <td>False</td>\n",
              "      <td>239</td>\n",
              "      <td>246</td>\n",
              "      <td>1</td>\n",
              "      <td>14.0</td>\n",
              "      <td>0.5</td>\n",
              "      <td>0.5</td>\n",
              "      <td>1.00</td>\n",
              "      <td>0.0</td>\n",
              "      <td>0.3</td>\n",
              "      <td>16.30</td>\n",
              "      <td>NaN</td>\n",
              "      <td>1</td>\n",
              "      <td>0</td>\n",
              "    </tr>\n",
              "    <tr>\n",
              "      <th>2</th>\n",
              "      <td>2</td>\n",
              "      <td>2018-12-21 13:48:30</td>\n",
              "      <td>2018-12-21 13:52:40</td>\n",
              "      <td>3</td>\n",
              "      <td>0.00</td>\n",
              "      <td>1</td>\n",
              "      <td>False</td>\n",
              "      <td>236</td>\n",
              "      <td>236</td>\n",
              "      <td>1</td>\n",
              "      <td>4.5</td>\n",
              "      <td>0.5</td>\n",
              "      <td>0.5</td>\n",
              "      <td>0.00</td>\n",
              "      <td>0.0</td>\n",
              "      <td>0.3</td>\n",
              "      <td>5.80</td>\n",
              "      <td>NaN</td>\n",
              "      <td>4</td>\n",
              "      <td>13</td>\n",
              "    </tr>\n",
              "    <tr>\n",
              "      <th>3</th>\n",
              "      <td>2</td>\n",
              "      <td>2018-11-28 15:52:25</td>\n",
              "      <td>2018-11-28 15:55:45</td>\n",
              "      <td>5</td>\n",
              "      <td>0.00</td>\n",
              "      <td>1</td>\n",
              "      <td>False</td>\n",
              "      <td>193</td>\n",
              "      <td>193</td>\n",
              "      <td>2</td>\n",
              "      <td>3.5</td>\n",
              "      <td>0.5</td>\n",
              "      <td>0.5</td>\n",
              "      <td>0.00</td>\n",
              "      <td>0.0</td>\n",
              "      <td>0.3</td>\n",
              "      <td>7.55</td>\n",
              "      <td>NaN</td>\n",
              "      <td>2</td>\n",
              "      <td>15</td>\n",
              "    </tr>\n",
              "    <tr>\n",
              "      <th>4</th>\n",
              "      <td>2</td>\n",
              "      <td>2018-11-28 15:56:57</td>\n",
              "      <td>2018-11-28 15:58:33</td>\n",
              "      <td>5</td>\n",
              "      <td>0.00</td>\n",
              "      <td>2</td>\n",
              "      <td>False</td>\n",
              "      <td>193</td>\n",
              "      <td>193</td>\n",
              "      <td>2</td>\n",
              "      <td>52.0</td>\n",
              "      <td>0.0</td>\n",
              "      <td>0.5</td>\n",
              "      <td>0.00</td>\n",
              "      <td>0.0</td>\n",
              "      <td>0.3</td>\n",
              "      <td>55.55</td>\n",
              "      <td>NaN</td>\n",
              "      <td>2</td>\n",
              "      <td>15</td>\n",
              "    </tr>\n",
              "    <tr>\n",
              "      <th>...</th>\n",
              "      <td>...</td>\n",
              "      <td>...</td>\n",
              "      <td>...</td>\n",
              "      <td>...</td>\n",
              "      <td>...</td>\n",
              "      <td>...</td>\n",
              "      <td>...</td>\n",
              "      <td>...</td>\n",
              "      <td>...</td>\n",
              "      <td>...</td>\n",
              "      <td>...</td>\n",
              "      <td>...</td>\n",
              "      <td>...</td>\n",
              "      <td>...</td>\n",
              "      <td>...</td>\n",
              "      <td>...</td>\n",
              "      <td>...</td>\n",
              "      <td>...</td>\n",
              "      <td>...</td>\n",
              "      <td>...</td>\n",
              "    </tr>\n",
              "    <tr>\n",
              "      <th>7667787</th>\n",
              "      <td>2</td>\n",
              "      <td>2019-01-31 23:57:36</td>\n",
              "      <td>2019-02-01 00:18:39</td>\n",
              "      <td>1</td>\n",
              "      <td>4.79</td>\n",
              "      <td>1</td>\n",
              "      <td>False</td>\n",
              "      <td>263</td>\n",
              "      <td>4</td>\n",
              "      <td>1</td>\n",
              "      <td>18.0</td>\n",
              "      <td>0.5</td>\n",
              "      <td>0.5</td>\n",
              "      <td>3.86</td>\n",
              "      <td>0.0</td>\n",
              "      <td>0.3</td>\n",
              "      <td>23.16</td>\n",
              "      <td>0.0</td>\n",
              "      <td>3</td>\n",
              "      <td>23</td>\n",
              "    </tr>\n",
              "    <tr>\n",
              "      <th>7667788</th>\n",
              "      <td>2</td>\n",
              "      <td>2019-01-31 23:32:03</td>\n",
              "      <td>2019-01-31 23:33:11</td>\n",
              "      <td>1</td>\n",
              "      <td>0.00</td>\n",
              "      <td>1</td>\n",
              "      <td>False</td>\n",
              "      <td>193</td>\n",
              "      <td>193</td>\n",
              "      <td>1</td>\n",
              "      <td>0.0</td>\n",
              "      <td>0.0</td>\n",
              "      <td>0.0</td>\n",
              "      <td>0.00</td>\n",
              "      <td>0.0</td>\n",
              "      <td>0.0</td>\n",
              "      <td>0.00</td>\n",
              "      <td>0.0</td>\n",
              "      <td>3</td>\n",
              "      <td>23</td>\n",
              "    </tr>\n",
              "    <tr>\n",
              "      <th>7667789</th>\n",
              "      <td>2</td>\n",
              "      <td>2019-01-31 23:36:36</td>\n",
              "      <td>2019-01-31 23:36:40</td>\n",
              "      <td>1</td>\n",
              "      <td>0.00</td>\n",
              "      <td>1</td>\n",
              "      <td>False</td>\n",
              "      <td>264</td>\n",
              "      <td>264</td>\n",
              "      <td>1</td>\n",
              "      <td>0.0</td>\n",
              "      <td>0.0</td>\n",
              "      <td>0.0</td>\n",
              "      <td>0.00</td>\n",
              "      <td>0.0</td>\n",
              "      <td>0.0</td>\n",
              "      <td>0.00</td>\n",
              "      <td>0.0</td>\n",
              "      <td>3</td>\n",
              "      <td>23</td>\n",
              "    </tr>\n",
              "    <tr>\n",
              "      <th>7667790</th>\n",
              "      <td>2</td>\n",
              "      <td>2019-01-31 23:14:53</td>\n",
              "      <td>2019-01-31 23:15:20</td>\n",
              "      <td>1</td>\n",
              "      <td>0.00</td>\n",
              "      <td>1</td>\n",
              "      <td>False</td>\n",
              "      <td>264</td>\n",
              "      <td>7</td>\n",
              "      <td>1</td>\n",
              "      <td>0.0</td>\n",
              "      <td>0.0</td>\n",
              "      <td>0.0</td>\n",
              "      <td>0.00</td>\n",
              "      <td>0.0</td>\n",
              "      <td>0.0</td>\n",
              "      <td>0.00</td>\n",
              "      <td>0.0</td>\n",
              "      <td>3</td>\n",
              "      <td>23</td>\n",
              "    </tr>\n",
              "    <tr>\n",
              "      <th>7667791</th>\n",
              "      <td>2</td>\n",
              "      <td>2019-01-31 23:12:49</td>\n",
              "      <td>2019-01-31 23:14:08</td>\n",
              "      <td>1</td>\n",
              "      <td>0.00</td>\n",
              "      <td>1</td>\n",
              "      <td>False</td>\n",
              "      <td>193</td>\n",
              "      <td>193</td>\n",
              "      <td>1</td>\n",
              "      <td>0.0</td>\n",
              "      <td>0.0</td>\n",
              "      <td>0.0</td>\n",
              "      <td>0.00</td>\n",
              "      <td>0.0</td>\n",
              "      <td>0.0</td>\n",
              "      <td>0.00</td>\n",
              "      <td>0.0</td>\n",
              "      <td>3</td>\n",
              "      <td>23</td>\n",
              "    </tr>\n",
              "  </tbody>\n",
              "</table>\n",
              "<p>7667792 rows × 20 columns</p>\n",
              "</div>"
            ],
            "text/plain": [
              "         VendorID tpep_pickup_datetime  ... weekday_number  hour\n",
              "0               1  2019-01-01 00:46:40  ...              1     0\n",
              "1               1  2019-01-01 00:59:47  ...              1     0\n",
              "2               2  2018-12-21 13:48:30  ...              4    13\n",
              "3               2  2018-11-28 15:52:25  ...              2    15\n",
              "4               2  2018-11-28 15:56:57  ...              2    15\n",
              "...           ...                  ...  ...            ...   ...\n",
              "7667787         2  2019-01-31 23:57:36  ...              3    23\n",
              "7667788         2  2019-01-31 23:32:03  ...              3    23\n",
              "7667789         2  2019-01-31 23:36:36  ...              3    23\n",
              "7667790         2  2019-01-31 23:14:53  ...              3    23\n",
              "7667791         2  2019-01-31 23:12:49  ...              3    23\n",
              "\n",
              "[7667792 rows x 20 columns]"
            ]
          },
          "metadata": {
            "tags": []
          },
          "execution_count": 11
        }
      ]
    },
    {
      "cell_type": "code",
      "metadata": {
        "id": "SQstN2PtL0N-",
        "colab": {
          "base_uri": "https://localhost:8080/"
        },
        "outputId": "f89ddfe1-0a28-4e75-a2cd-793e55302cdd"
      },
      "source": [
        "routes_num = data[['PULocationID','DOLocationID', 'weekday_number', 'hour', 'VendorID']]\n",
        "orders = routes_num.groupby(['weekday_number', 'hour', 'PULocationID','DOLocationID']).size()\n",
        "orders"
      ],
      "execution_count": null,
      "outputs": [
        {
          "output_type": "execute_result",
          "data": {
            "text/plain": [
              "weekday_number  hour  PULocationID  DOLocationID\n",
              "0               0     4             4                 7\n",
              "                                    45                1\n",
              "                                    48                1\n",
              "                                    68                1\n",
              "                                    79                5\n",
              "                                                   ... \n",
              "6               23    264           263               2\n",
              "                                    264             422\n",
              "                                    265               5\n",
              "                      265           236               1\n",
              "                                    265              14\n",
              "Length: 797764, dtype: int64"
            ]
          },
          "metadata": {
            "tags": []
          },
          "execution_count": 12
        }
      ]
    },
    {
      "cell_type": "code",
      "metadata": {
        "colab": {
          "base_uri": "https://localhost:8080/",
          "height": 424
        },
        "id": "w6T48iTkE4bJ",
        "outputId": "3d70dac4-bbf2-455f-fb87-7a2f728f607e"
      },
      "source": [
        "orders = orders.reset_index().iloc[:,2:].rename({0: 'orders'}, axis=1)\n",
        "orders"
      ],
      "execution_count": null,
      "outputs": [
        {
          "output_type": "execute_result",
          "data": {
            "text/html": [
              "<div>\n",
              "<style scoped>\n",
              "    .dataframe tbody tr th:only-of-type {\n",
              "        vertical-align: middle;\n",
              "    }\n",
              "\n",
              "    .dataframe tbody tr th {\n",
              "        vertical-align: top;\n",
              "    }\n",
              "\n",
              "    .dataframe thead th {\n",
              "        text-align: right;\n",
              "    }\n",
              "</style>\n",
              "<table border=\"1\" class=\"dataframe\">\n",
              "  <thead>\n",
              "    <tr style=\"text-align: right;\">\n",
              "      <th></th>\n",
              "      <th>PULocationID</th>\n",
              "      <th>DOLocationID</th>\n",
              "      <th>orders</th>\n",
              "    </tr>\n",
              "  </thead>\n",
              "  <tbody>\n",
              "    <tr>\n",
              "      <th>0</th>\n",
              "      <td>4</td>\n",
              "      <td>4</td>\n",
              "      <td>7</td>\n",
              "    </tr>\n",
              "    <tr>\n",
              "      <th>1</th>\n",
              "      <td>4</td>\n",
              "      <td>45</td>\n",
              "      <td>1</td>\n",
              "    </tr>\n",
              "    <tr>\n",
              "      <th>2</th>\n",
              "      <td>4</td>\n",
              "      <td>48</td>\n",
              "      <td>1</td>\n",
              "    </tr>\n",
              "    <tr>\n",
              "      <th>3</th>\n",
              "      <td>4</td>\n",
              "      <td>68</td>\n",
              "      <td>1</td>\n",
              "    </tr>\n",
              "    <tr>\n",
              "      <th>4</th>\n",
              "      <td>4</td>\n",
              "      <td>79</td>\n",
              "      <td>5</td>\n",
              "    </tr>\n",
              "    <tr>\n",
              "      <th>...</th>\n",
              "      <td>...</td>\n",
              "      <td>...</td>\n",
              "      <td>...</td>\n",
              "    </tr>\n",
              "    <tr>\n",
              "      <th>797759</th>\n",
              "      <td>264</td>\n",
              "      <td>263</td>\n",
              "      <td>2</td>\n",
              "    </tr>\n",
              "    <tr>\n",
              "      <th>797760</th>\n",
              "      <td>264</td>\n",
              "      <td>264</td>\n",
              "      <td>422</td>\n",
              "    </tr>\n",
              "    <tr>\n",
              "      <th>797761</th>\n",
              "      <td>264</td>\n",
              "      <td>265</td>\n",
              "      <td>5</td>\n",
              "    </tr>\n",
              "    <tr>\n",
              "      <th>797762</th>\n",
              "      <td>265</td>\n",
              "      <td>236</td>\n",
              "      <td>1</td>\n",
              "    </tr>\n",
              "    <tr>\n",
              "      <th>797763</th>\n",
              "      <td>265</td>\n",
              "      <td>265</td>\n",
              "      <td>14</td>\n",
              "    </tr>\n",
              "  </tbody>\n",
              "</table>\n",
              "<p>797764 rows × 3 columns</p>\n",
              "</div>"
            ],
            "text/plain": [
              "        PULocationID  DOLocationID  orders\n",
              "0                  4             4       7\n",
              "1                  4            45       1\n",
              "2                  4            48       1\n",
              "3                  4            68       1\n",
              "4                  4            79       5\n",
              "...              ...           ...     ...\n",
              "797759           264           263       2\n",
              "797760           264           264     422\n",
              "797761           264           265       5\n",
              "797762           265           236       1\n",
              "797763           265           265      14\n",
              "\n",
              "[797764 rows x 3 columns]"
            ]
          },
          "metadata": {
            "tags": []
          },
          "execution_count": 13
        }
      ]
    },
    {
      "cell_type": "markdown",
      "metadata": {
        "id": "_ZEz-0r8n-k9"
      },
      "source": [
        "Посчитаем стандартное отклонение и среднее за период."
      ]
    },
    {
      "cell_type": "code",
      "metadata": {
        "colab": {
          "base_uri": "https://localhost:8080/",
          "height": 455
        },
        "id": "OgcjbydRFMLY",
        "outputId": "eb64e397-a3b0-4100-8cf2-69cd8311acb8"
      },
      "source": [
        "orders_std = orders.groupby(['PULocationID','DOLocationID']).std().dropna()\n",
        "orders_std"
      ],
      "execution_count": null,
      "outputs": [
        {
          "output_type": "execute_result",
          "data": {
            "text/html": [
              "<div>\n",
              "<style scoped>\n",
              "    .dataframe tbody tr th:only-of-type {\n",
              "        vertical-align: middle;\n",
              "    }\n",
              "\n",
              "    .dataframe tbody tr th {\n",
              "        vertical-align: top;\n",
              "    }\n",
              "\n",
              "    .dataframe thead th {\n",
              "        text-align: right;\n",
              "    }\n",
              "</style>\n",
              "<table border=\"1\" class=\"dataframe\">\n",
              "  <thead>\n",
              "    <tr style=\"text-align: right;\">\n",
              "      <th></th>\n",
              "      <th></th>\n",
              "      <th>orders</th>\n",
              "    </tr>\n",
              "    <tr>\n",
              "      <th>PULocationID</th>\n",
              "      <th>DOLocationID</th>\n",
              "      <th></th>\n",
              "    </tr>\n",
              "  </thead>\n",
              "  <tbody>\n",
              "    <tr>\n",
              "      <th rowspan=\"4\" valign=\"top\">1</th>\n",
              "      <th>1</th>\n",
              "      <td>2.684620</td>\n",
              "    </tr>\n",
              "    <tr>\n",
              "      <th>132</th>\n",
              "      <td>0.000000</td>\n",
              "    </tr>\n",
              "    <tr>\n",
              "      <th>264</th>\n",
              "      <td>0.000000</td>\n",
              "    </tr>\n",
              "    <tr>\n",
              "      <th>265</th>\n",
              "      <td>0.000000</td>\n",
              "    </tr>\n",
              "    <tr>\n",
              "      <th>2</th>\n",
              "      <th>2</th>\n",
              "      <td>0.000000</td>\n",
              "    </tr>\n",
              "    <tr>\n",
              "      <th>...</th>\n",
              "      <th>...</th>\n",
              "      <td>...</td>\n",
              "    </tr>\n",
              "    <tr>\n",
              "      <th rowspan=\"5\" valign=\"top\">265</th>\n",
              "      <th>259</th>\n",
              "      <td>0.000000</td>\n",
              "    </tr>\n",
              "    <tr>\n",
              "      <th>262</th>\n",
              "      <td>0.000000</td>\n",
              "    </tr>\n",
              "    <tr>\n",
              "      <th>263</th>\n",
              "      <td>0.000000</td>\n",
              "    </tr>\n",
              "    <tr>\n",
              "      <th>264</th>\n",
              "      <td>0.394771</td>\n",
              "    </tr>\n",
              "    <tr>\n",
              "      <th>265</th>\n",
              "      <td>8.950096</td>\n",
              "    </tr>\n",
              "  </tbody>\n",
              "</table>\n",
              "<p>24452 rows × 1 columns</p>\n",
              "</div>"
            ],
            "text/plain": [
              "                             orders\n",
              "PULocationID DOLocationID          \n",
              "1            1             2.684620\n",
              "             132           0.000000\n",
              "             264           0.000000\n",
              "             265           0.000000\n",
              "2            2             0.000000\n",
              "...                             ...\n",
              "265          259           0.000000\n",
              "             262           0.000000\n",
              "             263           0.000000\n",
              "             264           0.394771\n",
              "             265           8.950096\n",
              "\n",
              "[24452 rows x 1 columns]"
            ]
          },
          "metadata": {
            "tags": []
          },
          "execution_count": 14
        }
      ]
    },
    {
      "cell_type": "code",
      "metadata": {
        "colab": {
          "base_uri": "https://localhost:8080/",
          "height": 455
        },
        "id": "1aX0zyjYG2yB",
        "outputId": "b45ce54c-0dea-46fa-b183-b42945fb64d8"
      },
      "source": [
        "orders_mean = orders.groupby(['PULocationID','DOLocationID']).mean().dropna()\n",
        "orders_mean"
      ],
      "execution_count": null,
      "outputs": [
        {
          "output_type": "execute_result",
          "data": {
            "text/html": [
              "<div>\n",
              "<style scoped>\n",
              "    .dataframe tbody tr th:only-of-type {\n",
              "        vertical-align: middle;\n",
              "    }\n",
              "\n",
              "    .dataframe tbody tr th {\n",
              "        vertical-align: top;\n",
              "    }\n",
              "\n",
              "    .dataframe thead th {\n",
              "        text-align: right;\n",
              "    }\n",
              "</style>\n",
              "<table border=\"1\" class=\"dataframe\">\n",
              "  <thead>\n",
              "    <tr style=\"text-align: right;\">\n",
              "      <th></th>\n",
              "      <th></th>\n",
              "      <th>orders</th>\n",
              "    </tr>\n",
              "    <tr>\n",
              "      <th>PULocationID</th>\n",
              "      <th>DOLocationID</th>\n",
              "      <th></th>\n",
              "    </tr>\n",
              "  </thead>\n",
              "  <tbody>\n",
              "    <tr>\n",
              "      <th rowspan=\"5\" valign=\"top\">1</th>\n",
              "      <th>1</th>\n",
              "      <td>3.435484</td>\n",
              "    </tr>\n",
              "    <tr>\n",
              "      <th>132</th>\n",
              "      <td>1.000000</td>\n",
              "    </tr>\n",
              "    <tr>\n",
              "      <th>137</th>\n",
              "      <td>1.000000</td>\n",
              "    </tr>\n",
              "    <tr>\n",
              "      <th>142</th>\n",
              "      <td>1.000000</td>\n",
              "    </tr>\n",
              "    <tr>\n",
              "      <th>164</th>\n",
              "      <td>1.000000</td>\n",
              "    </tr>\n",
              "    <tr>\n",
              "      <th>...</th>\n",
              "      <th>...</th>\n",
              "      <td>...</td>\n",
              "    </tr>\n",
              "    <tr>\n",
              "      <th rowspan=\"5\" valign=\"top\">265</th>\n",
              "      <th>259</th>\n",
              "      <td>1.000000</td>\n",
              "    </tr>\n",
              "    <tr>\n",
              "      <th>262</th>\n",
              "      <td>1.000000</td>\n",
              "    </tr>\n",
              "    <tr>\n",
              "      <th>263</th>\n",
              "      <td>1.000000</td>\n",
              "    </tr>\n",
              "    <tr>\n",
              "      <th>264</th>\n",
              "      <td>1.181818</td>\n",
              "    </tr>\n",
              "    <tr>\n",
              "      <th>265</th>\n",
              "      <td>18.059524</td>\n",
              "    </tr>\n",
              "  </tbody>\n",
              "</table>\n",
              "<p>32242 rows × 1 columns</p>\n",
              "</div>"
            ],
            "text/plain": [
              "                              orders\n",
              "PULocationID DOLocationID           \n",
              "1            1              3.435484\n",
              "             132            1.000000\n",
              "             137            1.000000\n",
              "             142            1.000000\n",
              "             164            1.000000\n",
              "...                              ...\n",
              "265          259            1.000000\n",
              "             262            1.000000\n",
              "             263            1.000000\n",
              "             264            1.181818\n",
              "             265           18.059524\n",
              "\n",
              "[32242 rows x 1 columns]"
            ]
          },
          "metadata": {
            "tags": []
          },
          "execution_count": 15
        }
      ]
    },
    {
      "cell_type": "markdown",
      "metadata": {
        "id": "M1IS5xCioGjE"
      },
      "source": [
        "Высчитаем волатильность."
      ]
    },
    {
      "cell_type": "code",
      "metadata": {
        "colab": {
          "base_uri": "https://localhost:8080/",
          "height": 455
        },
        "id": "Fgy3RG58G9V2",
        "outputId": "de680a6f-e909-4acc-8115-e6da7194d6d8"
      },
      "source": [
        "volatility = (orders_std / orders_mean).dropna()\n",
        "volatility"
      ],
      "execution_count": null,
      "outputs": [
        {
          "output_type": "execute_result",
          "data": {
            "text/html": [
              "<div>\n",
              "<style scoped>\n",
              "    .dataframe tbody tr th:only-of-type {\n",
              "        vertical-align: middle;\n",
              "    }\n",
              "\n",
              "    .dataframe tbody tr th {\n",
              "        vertical-align: top;\n",
              "    }\n",
              "\n",
              "    .dataframe thead th {\n",
              "        text-align: right;\n",
              "    }\n",
              "</style>\n",
              "<table border=\"1\" class=\"dataframe\">\n",
              "  <thead>\n",
              "    <tr style=\"text-align: right;\">\n",
              "      <th></th>\n",
              "      <th></th>\n",
              "      <th>orders</th>\n",
              "    </tr>\n",
              "    <tr>\n",
              "      <th>PULocationID</th>\n",
              "      <th>DOLocationID</th>\n",
              "      <th></th>\n",
              "    </tr>\n",
              "  </thead>\n",
              "  <tbody>\n",
              "    <tr>\n",
              "      <th rowspan=\"4\" valign=\"top\">1</th>\n",
              "      <th>1</th>\n",
              "      <td>0.781439</td>\n",
              "    </tr>\n",
              "    <tr>\n",
              "      <th>132</th>\n",
              "      <td>0.000000</td>\n",
              "    </tr>\n",
              "    <tr>\n",
              "      <th>264</th>\n",
              "      <td>0.000000</td>\n",
              "    </tr>\n",
              "    <tr>\n",
              "      <th>265</th>\n",
              "      <td>0.000000</td>\n",
              "    </tr>\n",
              "    <tr>\n",
              "      <th>2</th>\n",
              "      <th>2</th>\n",
              "      <td>0.000000</td>\n",
              "    </tr>\n",
              "    <tr>\n",
              "      <th>...</th>\n",
              "      <th>...</th>\n",
              "      <td>...</td>\n",
              "    </tr>\n",
              "    <tr>\n",
              "      <th rowspan=\"5\" valign=\"top\">265</th>\n",
              "      <th>259</th>\n",
              "      <td>0.000000</td>\n",
              "    </tr>\n",
              "    <tr>\n",
              "      <th>262</th>\n",
              "      <td>0.000000</td>\n",
              "    </tr>\n",
              "    <tr>\n",
              "      <th>263</th>\n",
              "      <td>0.000000</td>\n",
              "    </tr>\n",
              "    <tr>\n",
              "      <th>264</th>\n",
              "      <td>0.334037</td>\n",
              "    </tr>\n",
              "    <tr>\n",
              "      <th>265</th>\n",
              "      <td>0.495589</td>\n",
              "    </tr>\n",
              "  </tbody>\n",
              "</table>\n",
              "<p>24452 rows × 1 columns</p>\n",
              "</div>"
            ],
            "text/plain": [
              "                             orders\n",
              "PULocationID DOLocationID          \n",
              "1            1             0.781439\n",
              "             132           0.000000\n",
              "             264           0.000000\n",
              "             265           0.000000\n",
              "2            2             0.000000\n",
              "...                             ...\n",
              "265          259           0.000000\n",
              "             262           0.000000\n",
              "             263           0.000000\n",
              "             264           0.334037\n",
              "             265           0.495589\n",
              "\n",
              "[24452 rows x 1 columns]"
            ]
          },
          "metadata": {
            "tags": []
          },
          "execution_count": 16
        }
      ]
    },
    {
      "cell_type": "markdown",
      "metadata": {
        "id": "VceqMo09oSOu"
      },
      "source": [
        "Построим гистограмму для определения границ групп."
      ]
    },
    {
      "cell_type": "code",
      "metadata": {
        "colab": {
          "base_uri": "https://localhost:8080/",
          "height": 390
        },
        "id": "KWNHicYDHE_U",
        "outputId": "1e5364c4-6c5e-4aa7-cb3c-ccefb8c63c47"
      },
      "source": [
        "plt.figure()\n",
        "plt.title('volatility')\n",
        "plt.hist(volatility['orders'])"
      ],
      "execution_count": null,
      "outputs": [
        {
          "output_type": "execute_result",
          "data": {
            "text/plain": [
              "(array([1.1199e+04, 4.1730e+03, 4.0980e+03, 3.7700e+03, 9.4900e+02,\n",
              "        1.9900e+02, 4.1000e+01, 1.0000e+01, 9.0000e+00, 4.0000e+00]),\n",
              " array([0.        , 0.19509142, 0.39018284, 0.58527426, 0.78036567,\n",
              "        0.97545709, 1.17054851, 1.36563993, 1.56073135, 1.75582277,\n",
              "        1.95091418]),\n",
              " <a list of 10 Patch objects>)"
            ]
          },
          "metadata": {
            "tags": []
          },
          "execution_count": 17
        },
        {
          "output_type": "display_data",
          "data": {
            "image/png": "[encoded data removed]",
            "text/plain": [
              "<Figure size 432x288 with 1 Axes>"
            ]
          },
          "metadata": {
            "tags": [],
            "needs_background": "light"
          }
        }
      ]
    },
    {
      "cell_type": "markdown",
      "metadata": {
        "id": "M_zv6jAUzVCO"
      },
      "source": [
        "Распределим группы следующим образом:\n",
        "* X -> < 0.1\n",
        "* Y -> >= 0.1 and < 0.8\n",
        "* Z -> >= 0.8"
      ]
    },
    {
      "cell_type": "code",
      "metadata": {
        "id": "vAcb_pTwHURa",
        "colab": {
          "base_uri": "https://localhost:8080/"
        },
        "outputId": "4f59e61d-0859-46a8-96ff-2aac1057b00a"
      },
      "source": [
        "def XYZ_segmentation(vol):\n",
        "  if vol < 0.1:\n",
        "    return 'X'\n",
        "  if vol >= 0.1 and vol < 0.8:\n",
        "    return 'Y'\n",
        "  if vol >= 0.8:\n",
        "    return 'Z'\n",
        "\n",
        "volatility['orders'].apply(XYZ_segmentation)"
      ],
      "execution_count": null,
      "outputs": [
        {
          "output_type": "execute_result",
          "data": {
            "text/plain": [
              "PULocationID  DOLocationID\n",
              "1             1               Y\n",
              "              132             X\n",
              "              264             X\n",
              "              265             X\n",
              "2             2               X\n",
              "                             ..\n",
              "265           259             X\n",
              "              262             X\n",
              "              263             X\n",
              "              264             Y\n",
              "              265             Y\n",
              "Name: orders, Length: 24452, dtype: object"
            ]
          },
          "metadata": {
            "tags": []
          },
          "execution_count": 18
        }
      ]
    },
    {
      "cell_type": "markdown",
      "metadata": {
        "id": "H7QaeEnYorhF"
      },
      "source": [
        "Объединяем результат с ABC анализом и строим график."
      ]
    },
    {
      "cell_type": "code",
      "metadata": {
        "colab": {
          "base_uri": "https://localhost:8080/",
          "height": 564
        },
        "id": "NHRYokBb0jWZ",
        "outputId": "36bc4487-6356-40db-baeb-ca6781be1ab7"
      },
      "source": [
        "routes_abc = pd.DataFrame(routes_abc).rename({'total_amount': 'ABC_seg'}, axis=1)\n",
        "routes_abc['XYZ_seg'] = volatility['orders'].apply(XYZ_segmentation)\n",
        "stocks_class = routes_abc.dropna()\n",
        "stocks_class['class'] = routes_abc['ABC_seg'] + routes_abc['XYZ_seg']\n",
        "stocks_class"
      ],
      "execution_count": null,
      "outputs": [
        {
          "output_type": "stream",
          "text": [
            "/usr/local/lib/python3.7/dist-packages/ipykernel_launcher.py:4: SettingWithCopyWarning: \n",
            "A value is trying to be set on a copy of a slice from a DataFrame.\n",
            "Try using .loc[row_indexer,col_indexer] = value instead\n",
            "\n",
            "See the caveats in the documentation: https://pandas.pydata.org/pandas-docs/stable/user_guide/indexing.html#returning-a-view-versus-a-copy\n",
            "  after removing the cwd from sys.path.\n"
          ],
          "name": "stderr"
        },
        {
          "output_type": "execute_result",
          "data": {
            "text/html": [
              "<div>\n",
              "<style scoped>\n",
              "    .dataframe tbody tr th:only-of-type {\n",
              "        vertical-align: middle;\n",
              "    }\n",
              "\n",
              "    .dataframe tbody tr th {\n",
              "        vertical-align: top;\n",
              "    }\n",
              "\n",
              "    .dataframe thead th {\n",
              "        text-align: right;\n",
              "    }\n",
              "</style>\n",
              "<table border=\"1\" class=\"dataframe\">\n",
              "  <thead>\n",
              "    <tr style=\"text-align: right;\">\n",
              "      <th></th>\n",
              "      <th></th>\n",
              "      <th>ABC_seg</th>\n",
              "      <th>XYZ_seg</th>\n",
              "      <th>class</th>\n",
              "    </tr>\n",
              "    <tr>\n",
              "      <th>PULocationID</th>\n",
              "      <th>DOLocationID</th>\n",
              "      <th></th>\n",
              "      <th></th>\n",
              "      <th></th>\n",
              "    </tr>\n",
              "  </thead>\n",
              "  <tbody>\n",
              "    <tr>\n",
              "      <th>264</th>\n",
              "      <th>264</th>\n",
              "      <td>A</td>\n",
              "      <td>Y</td>\n",
              "      <td>AY</td>\n",
              "    </tr>\n",
              "    <tr>\n",
              "      <th>237</th>\n",
              "      <th>90</th>\n",
              "      <td>A</td>\n",
              "      <td>Y</td>\n",
              "      <td>AY</td>\n",
              "    </tr>\n",
              "    <tr>\n",
              "      <th>138</th>\n",
              "      <th>230</th>\n",
              "      <td>A</td>\n",
              "      <td>Y</td>\n",
              "      <td>AY</td>\n",
              "    </tr>\n",
              "    <tr>\n",
              "      <th rowspan=\"2\" valign=\"top\">132</th>\n",
              "      <th>230</th>\n",
              "      <td>A</td>\n",
              "      <td>Y</td>\n",
              "      <td>AY</td>\n",
              "    </tr>\n",
              "    <tr>\n",
              "      <th>265</th>\n",
              "      <td>A</td>\n",
              "      <td>Y</td>\n",
              "      <td>AY</td>\n",
              "    </tr>\n",
              "    <tr>\n",
              "      <th>...</th>\n",
              "      <th>...</th>\n",
              "      <td>...</td>\n",
              "      <td>...</td>\n",
              "      <td>...</td>\n",
              "    </tr>\n",
              "    <tr>\n",
              "      <th>79</th>\n",
              "      <th>184</th>\n",
              "      <td>C</td>\n",
              "      <td>X</td>\n",
              "      <td>CX</td>\n",
              "    </tr>\n",
              "    <tr>\n",
              "      <th>98</th>\n",
              "      <th>121</th>\n",
              "      <td>C</td>\n",
              "      <td>X</td>\n",
              "      <td>CX</td>\n",
              "    </tr>\n",
              "    <tr>\n",
              "      <th>153</th>\n",
              "      <th>128</th>\n",
              "      <td>C</td>\n",
              "      <td>Y</td>\n",
              "      <td>CY</td>\n",
              "    </tr>\n",
              "    <tr>\n",
              "      <th>259</th>\n",
              "      <th>240</th>\n",
              "      <td>C</td>\n",
              "      <td>Y</td>\n",
              "      <td>CY</td>\n",
              "    </tr>\n",
              "    <tr>\n",
              "      <th>19</th>\n",
              "      <th>264</th>\n",
              "      <td>C</td>\n",
              "      <td>X</td>\n",
              "      <td>CX</td>\n",
              "    </tr>\n",
              "  </tbody>\n",
              "</table>\n",
              "<p>24451 rows × 3 columns</p>\n",
              "</div>"
            ],
            "text/plain": [
              "                          ABC_seg XYZ_seg class\n",
              "PULocationID DOLocationID                      \n",
              "264          264                A       Y    AY\n",
              "237          90                 A       Y    AY\n",
              "138          230                A       Y    AY\n",
              "132          230                A       Y    AY\n",
              "             265                A       Y    AY\n",
              "...                           ...     ...   ...\n",
              "79           184                C       X    CX\n",
              "98           121                C       X    CX\n",
              "153          128                C       Y    CY\n",
              "259          240                C       Y    CY\n",
              "19           264                C       X    CX\n",
              "\n",
              "[24451 rows x 3 columns]"
            ]
          },
          "metadata": {
            "tags": []
          },
          "execution_count": 19
        }
      ]
    },
    {
      "cell_type": "code",
      "metadata": {
        "colab": {
          "base_uri": "https://localhost:8080/"
        },
        "id": "m5u3i2fu3wA2",
        "outputId": "2683889f-6b8d-422b-d5ed-9a5712d7a174"
      },
      "source": [
        "stocks_class['class'].value_counts()"
      ],
      "execution_count": null,
      "outputs": [
        {
          "output_type": "execute_result",
          "data": {
            "text/plain": [
              "CX    11126\n",
              "CY     7119\n",
              "BY     3601\n",
              "AY     1564\n",
              "BZ      506\n",
              "AZ      466\n",
              "CZ       50\n",
              "BX       19\n",
              "Name: class, dtype: int64"
            ]
          },
          "metadata": {
            "tags": []
          },
          "execution_count": 20
        }
      ]
    },
    {
      "cell_type": "code",
      "metadata": {
        "colab": {
          "base_uri": "https://localhost:8080/",
          "height": 287
        },
        "id": "3FNGk4383z3P",
        "outputId": "f1a0becf-7d48-4be6-afa7-1a2c6fa1b097"
      },
      "source": [
        "stocks_class['class'].value_counts().plot(kind='bar')"
      ],
      "execution_count": null,
      "outputs": [
        {
          "output_type": "execute_result",
          "data": {
            "text/plain": [
              "<matplotlib.axes._subplots.AxesSubplot at 0x7f2e24f83710>"
            ]
          },
          "metadata": {
            "tags": []
          },
          "execution_count": 21
        },
        {
          "output_type": "display_data",
          "data": {
            "image/png": "[encoded data removed]",
            "text/plain": [
              "<Figure size 432x288 with 1 Axes>"
            ]
          },
          "metadata": {
            "tags": [],
            "needs_background": "light"
          }
        }
      ]
    },
    {
      "cell_type": "markdown",
      "metadata": {
        "id": "pSVE8DO97MjN"
      },
      "source": [
        "Исходя из данных видно, что наибольшее количество маршрутов находится в категориях CX и CY, т.е. с низкой потребительской стоимостью и высокой или средней степенью надежности прогноза."
      ]
    },
    {
      "cell_type": "markdown",
      "metadata": {
        "id": "lx5MwLh1ozSy"
      },
      "source": [
        "Сделаем все то же самое но в разбивке по операторам такси."
      ]
    },
    {
      "cell_type": "code",
      "metadata": {
        "id": "O8yREsHz4ZzE",
        "colab": {
          "base_uri": "https://localhost:8080/",
          "height": 284
        },
        "outputId": "677bdff8-00a4-4b69-d3d0-2d3f80136c6c"
      },
      "source": [
        "vendor_orders = routes_num.groupby(['weekday_number', 'hour','VendorID', 'PULocationID','DOLocationID']).size()\n",
        "vendor_orders = vendor_orders.reset_index().iloc[:,2:].rename({0: 'orders'}, axis=1)\n",
        "\n",
        "vendor_orders_std = vendor_orders.groupby(['VendorID', 'PULocationID','DOLocationID']).std().dropna()\n",
        "vendor_orders_mean = vendor_orders.groupby(['VendorID', 'PULocationID','DOLocationID']).mean().dropna()\n",
        "vendor_volatility = (vendor_orders_std / vendor_orders_mean).dropna()\n",
        "\n",
        "vendor_routes_abc = pd.DataFrame(vendor_routes_abc).rename({'total_amount': 'ABC_seg'}, axis=1)\n",
        "vendor_routes_abc['XYZ_seg'] = vendor_volatility['orders'].apply(XYZ_segmentation)\n",
        "vendor_stocks_class = vendor_routes_abc.dropna()\n",
        "vendor_stocks_class['class'] = vendor_routes_abc['ABC_seg'] + vendor_routes_abc['XYZ_seg']\n",
        "vendor_stocks_class = vendor_stocks_class.reset_index().groupby('VendorID')['class'].value_counts().unstack()\n",
        "vendor_stocks_class"
      ],
      "execution_count": null,
      "outputs": [
        {
          "output_type": "stream",
          "text": [
            "/usr/local/lib/python3.7/dist-packages/ipykernel_launcher.py:11: SettingWithCopyWarning: \n",
            "A value is trying to be set on a copy of a slice from a DataFrame.\n",
            "Try using .loc[row_indexer,col_indexer] = value instead\n",
            "\n",
            "See the caveats in the documentation: https://pandas.pydata.org/pandas-docs/stable/user_guide/indexing.html#returning-a-view-versus-a-copy\n",
            "  # This is added back by InteractiveShellApp.init_path()\n"
          ],
          "name": "stderr"
        },
        {
          "output_type": "execute_result",
          "data": {
            "text/html": [
              "<div>\n",
              "<style scoped>\n",
              "    .dataframe tbody tr th:only-of-type {\n",
              "        vertical-align: middle;\n",
              "    }\n",
              "\n",
              "    .dataframe tbody tr th {\n",
              "        vertical-align: top;\n",
              "    }\n",
              "\n",
              "    .dataframe thead th {\n",
              "        text-align: right;\n",
              "    }\n",
              "</style>\n",
              "<table border=\"1\" class=\"dataframe\">\n",
              "  <thead>\n",
              "    <tr style=\"text-align: right;\">\n",
              "      <th>class</th>\n",
              "      <th>AY</th>\n",
              "      <th>AZ</th>\n",
              "      <th>BX</th>\n",
              "      <th>BY</th>\n",
              "      <th>BZ</th>\n",
              "      <th>CX</th>\n",
              "      <th>CY</th>\n",
              "      <th>CZ</th>\n",
              "    </tr>\n",
              "    <tr>\n",
              "      <th>VendorID</th>\n",
              "      <th></th>\n",
              "      <th></th>\n",
              "      <th></th>\n",
              "      <th></th>\n",
              "      <th></th>\n",
              "      <th></th>\n",
              "      <th></th>\n",
              "      <th></th>\n",
              "    </tr>\n",
              "  </thead>\n",
              "  <tbody>\n",
              "    <tr>\n",
              "      <th>1</th>\n",
              "      <td>1458.0</td>\n",
              "      <td>287.0</td>\n",
              "      <td>97.0</td>\n",
              "      <td>3455.0</td>\n",
              "      <td>113.0</td>\n",
              "      <td>6960.0</td>\n",
              "      <td>2629.0</td>\n",
              "      <td>7.0</td>\n",
              "    </tr>\n",
              "    <tr>\n",
              "      <th>2</th>\n",
              "      <td>1904.0</td>\n",
              "      <td>471.0</td>\n",
              "      <td>196.0</td>\n",
              "      <td>4557.0</td>\n",
              "      <td>187.0</td>\n",
              "      <td>10461.0</td>\n",
              "      <td>4272.0</td>\n",
              "      <td>27.0</td>\n",
              "    </tr>\n",
              "    <tr>\n",
              "      <th>4</th>\n",
              "      <td>NaN</td>\n",
              "      <td>NaN</td>\n",
              "      <td>28.0</td>\n",
              "      <td>425.0</td>\n",
              "      <td>4.0</td>\n",
              "      <td>2248.0</td>\n",
              "      <td>1080.0</td>\n",
              "      <td>1.0</td>\n",
              "    </tr>\n",
              "  </tbody>\n",
              "</table>\n",
              "</div>"
            ],
            "text/plain": [
              "class         AY     AZ     BX      BY     BZ       CX      CY    CZ\n",
              "VendorID                                                            \n",
              "1         1458.0  287.0   97.0  3455.0  113.0   6960.0  2629.0   7.0\n",
              "2         1904.0  471.0  196.0  4557.0  187.0  10461.0  4272.0  27.0\n",
              "4            NaN    NaN   28.0   425.0    4.0   2248.0  1080.0   1.0"
            ]
          },
          "metadata": {
            "tags": []
          },
          "execution_count": 43
        }
      ]
    },
    {
      "cell_type": "code",
      "metadata": {
        "colab": {
          "base_uri": "https://localhost:8080/",
          "height": 566
        },
        "id": "n7IzBDP6lFak",
        "outputId": "601d64ec-e115-4cae-ed88-ff43a997562c"
      },
      "source": [
        "vendor_stocks_class.plot(kind='bar', figsize=(20,9))"
      ],
      "execution_count": null,
      "outputs": [
        {
          "output_type": "execute_result",
          "data": {
            "text/plain": [
              "<matplotlib.axes._subplots.AxesSubplot at 0x7f2e248c6850>"
            ]
          },
          "metadata": {
            "tags": []
          },
          "execution_count": 44
        },
        {
          "output_type": "display_data",
          "data": {
            "image/png": "[encoded data removed]",
            "text/plain": [
              "<Figure size 1440x648 with 1 Axes>"
            ]
          },
          "metadata": {
            "tags": [],
            "needs_background": "light"
          }
        }
      ]
    },
    {
      "cell_type": "markdown",
      "metadata": {
        "id": "KH57tXKopBLq"
      },
      "source": [
        "Из данного графика видно, что резултаты анализа в разбиении по операторам несущественно различаются от общих для 1 и 2 оператора. \n",
        "\n",
        "У 4 оператора отсутствуют категории AY и AZ.\n",
        "\n",
        "Для всех операторов характерно преобладание групп CX, BY, CY."
      ]
    },
    {
      "cell_type": "markdown",
      "metadata": {
        "id": "vfYXLlW0qav3"
      },
      "source": [
        "##3. Для нескольких одинаковых зон посадки и высадки (штук 5) сравните средние значения длительности поездки для операторов 1 и 2. Проверьте истинность гипотезы о равенстве среднего времени для выбранных маршрутов с помощью t критерия и pvalue"
      ]
    },
    {
      "cell_type": "markdown",
      "metadata": {
        "id": "Lsi9wxPfxxP3"
      },
      "source": [
        "Выберем самые популярные одинаковые зоны посадки и высадки."
      ]
    },
    {
      "cell_type": "code",
      "metadata": {
        "colab": {
          "base_uri": "https://localhost:8080/",
          "height": 226
        },
        "id": "NzkkU_tAwqAQ",
        "outputId": "8b08c77a-1b34-4120-e413-7d6d0443681c"
      },
      "source": [
        "similar_location = data[data.PULocationID == data.DOLocationID]\n",
        "similar_location = similar_location[similar_location.PULocationID.isin(similar_location['PULocationID'].value_counts()[:5].index)]\n",
        "similar_location.head()"
      ],
      "execution_count": null,
      "outputs": [
        {
          "output_type": "execute_result",
          "data": {
            "text/html": [
              "<div>\n",
              "<style scoped>\n",
              "    .dataframe tbody tr th:only-of-type {\n",
              "        vertical-align: middle;\n",
              "    }\n",
              "\n",
              "    .dataframe tbody tr th {\n",
              "        vertical-align: top;\n",
              "    }\n",
              "\n",
              "    .dataframe thead th {\n",
              "        text-align: right;\n",
              "    }\n",
              "</style>\n",
              "<table border=\"1\" class=\"dataframe\">\n",
              "  <thead>\n",
              "    <tr style=\"text-align: right;\">\n",
              "      <th></th>\n",
              "      <th>VendorID</th>\n",
              "      <th>tpep_pickup_datetime</th>\n",
              "      <th>tpep_dropoff_datetime</th>\n",
              "      <th>passenger_count</th>\n",
              "      <th>trip_distance</th>\n",
              "      <th>RatecodeID</th>\n",
              "      <th>store_and_fwd_flag</th>\n",
              "      <th>PULocationID</th>\n",
              "      <th>DOLocationID</th>\n",
              "      <th>payment_type</th>\n",
              "      <th>fare_amount</th>\n",
              "      <th>extra</th>\n",
              "      <th>mta_tax</th>\n",
              "      <th>tip_amount</th>\n",
              "      <th>tolls_amount</th>\n",
              "      <th>improvement_surcharge</th>\n",
              "      <th>total_amount</th>\n",
              "      <th>congestion_surcharge</th>\n",
              "    </tr>\n",
              "  </thead>\n",
              "  <tbody>\n",
              "    <tr>\n",
              "      <th>2</th>\n",
              "      <td>2</td>\n",
              "      <td>2018-12-21 13:48:30</td>\n",
              "      <td>2018-12-21 13:52:40</td>\n",
              "      <td>3</td>\n",
              "      <td>0.00</td>\n",
              "      <td>1</td>\n",
              "      <td>False</td>\n",
              "      <td>236</td>\n",
              "      <td>236</td>\n",
              "      <td>1</td>\n",
              "      <td>4.5</td>\n",
              "      <td>0.5</td>\n",
              "      <td>0.5</td>\n",
              "      <td>0.00</td>\n",
              "      <td>0.0</td>\n",
              "      <td>0.3</td>\n",
              "      <td>5.80</td>\n",
              "      <td>NaN</td>\n",
              "    </tr>\n",
              "    <tr>\n",
              "      <th>86</th>\n",
              "      <td>1</td>\n",
              "      <td>2019-01-01 00:48:53</td>\n",
              "      <td>2019-01-01 00:54:44</td>\n",
              "      <td>1</td>\n",
              "      <td>0.50</td>\n",
              "      <td>1</td>\n",
              "      <td>False</td>\n",
              "      <td>239</td>\n",
              "      <td>239</td>\n",
              "      <td>1</td>\n",
              "      <td>5.5</td>\n",
              "      <td>0.5</td>\n",
              "      <td>0.5</td>\n",
              "      <td>1.35</td>\n",
              "      <td>0.0</td>\n",
              "      <td>0.3</td>\n",
              "      <td>8.15</td>\n",
              "      <td>NaN</td>\n",
              "    </tr>\n",
              "    <tr>\n",
              "      <th>103</th>\n",
              "      <td>1</td>\n",
              "      <td>2019-01-01 00:50:41</td>\n",
              "      <td>2019-01-01 01:00:04</td>\n",
              "      <td>2</td>\n",
              "      <td>1.30</td>\n",
              "      <td>1</td>\n",
              "      <td>False</td>\n",
              "      <td>264</td>\n",
              "      <td>264</td>\n",
              "      <td>1</td>\n",
              "      <td>7.5</td>\n",
              "      <td>0.5</td>\n",
              "      <td>0.5</td>\n",
              "      <td>1.58</td>\n",
              "      <td>0.0</td>\n",
              "      <td>0.3</td>\n",
              "      <td>10.38</td>\n",
              "      <td>NaN</td>\n",
              "    </tr>\n",
              "    <tr>\n",
              "      <th>145</th>\n",
              "      <td>2</td>\n",
              "      <td>2019-01-01 00:14:19</td>\n",
              "      <td>2019-01-01 00:17:03</td>\n",
              "      <td>2</td>\n",
              "      <td>0.78</td>\n",
              "      <td>1</td>\n",
              "      <td>False</td>\n",
              "      <td>236</td>\n",
              "      <td>236</td>\n",
              "      <td>1</td>\n",
              "      <td>4.5</td>\n",
              "      <td>0.5</td>\n",
              "      <td>0.5</td>\n",
              "      <td>1.16</td>\n",
              "      <td>0.0</td>\n",
              "      <td>0.3</td>\n",
              "      <td>6.96</td>\n",
              "      <td>NaN</td>\n",
              "    </tr>\n",
              "    <tr>\n",
              "      <th>197</th>\n",
              "      <td>2</td>\n",
              "      <td>2019-01-01 00:06:30</td>\n",
              "      <td>2019-01-01 00:08:31</td>\n",
              "      <td>1</td>\n",
              "      <td>0.46</td>\n",
              "      <td>1</td>\n",
              "      <td>False</td>\n",
              "      <td>239</td>\n",
              "      <td>239</td>\n",
              "      <td>1</td>\n",
              "      <td>4.0</td>\n",
              "      <td>0.5</td>\n",
              "      <td>0.5</td>\n",
              "      <td>1.59</td>\n",
              "      <td>0.0</td>\n",
              "      <td>0.3</td>\n",
              "      <td>6.89</td>\n",
              "      <td>NaN</td>\n",
              "    </tr>\n",
              "  </tbody>\n",
              "</table>\n",
              "</div>"
            ],
            "text/plain": [
              "     VendorID tpep_pickup_datetime  ... total_amount  congestion_surcharge\n",
              "2           2  2018-12-21 13:48:30  ...         5.80                   NaN\n",
              "86          1  2019-01-01 00:48:53  ...         8.15                   NaN\n",
              "103         1  2019-01-01 00:50:41  ...        10.38                   NaN\n",
              "145         2  2019-01-01 00:14:19  ...         6.96                   NaN\n",
              "197         2  2019-01-01 00:06:30  ...         6.89                   NaN\n",
              "\n",
              "[5 rows x 18 columns]"
            ]
          },
          "metadata": {
            "tags": []
          },
          "execution_count": 31
        }
      ]
    },
    {
      "cell_type": "code",
      "metadata": {
        "colab": {
          "base_uri": "https://localhost:8080/",
          "height": 566
        },
        "id": "6HegnO7gyEVs",
        "outputId": "6d5462d1-55c7-451a-ae1e-17b1201b4121"
      },
      "source": [
        "similar_location['trip_time'] = (similar_location['tpep_dropoff_datetime'] - similar_location['tpep_pickup_datetime']).dt.total_seconds() / 60\n",
        "similar_location[similar_location.VendorID.isin([1,2])].groupby(['VendorID', 'PULocationID'])['trip_time'].mean().unstack().plot(kind='bar', figsize=(20,9))"
      ],
      "execution_count": null,
      "outputs": [
        {
          "output_type": "execute_result",
          "data": {
            "text/plain": [
              "<matplotlib.axes._subplots.AxesSubplot at 0x7f6e7d97cb90>"
            ]
          },
          "metadata": {
            "tags": []
          },
          "execution_count": 32
        },
        {
          "output_type": "display_data",
          "data": {
            "image/png": "[encoded data removed]",
            "text/plain": [
              "<Figure size 1440x648 with 1 Axes>"
            ]
          },
          "metadata": {
            "tags": [],
            "needs_background": "light"
          }
        }
      ]
    },
    {
      "cell_type": "markdown",
      "metadata": {
        "id": "xPe_BH00BPvg"
      },
      "source": [
        "На данной диаграмме видно, что в целом среднее время для каждого маршрута больше у 2 оператора. Распределение среднего времени для 1 и 2 операторов по маршрутам во многом совпадает."
      ]
    },
    {
      "cell_type": "code",
      "metadata": {
        "id": "lytRgKFI4QMb"
      },
      "source": [
        "from scipy import stats"
      ],
      "execution_count": null,
      "outputs": []
    },
    {
      "cell_type": "markdown",
      "metadata": {
        "id": "DxzZZLe5B7yA"
      },
      "source": [
        "Сравним среднее время для каждого маршрута с остальными. Гипотеза о равенстве среднего времени верна, если значение pvalue > 0.05 (True), в обртном случае будет выведено False.\n",
        "\n"
      ]
    },
    {
      "cell_type": "code",
      "metadata": {
        "colab": {
          "base_uri": "https://localhost:8080/"
        },
        "id": "NpCSq5Gc8BjT",
        "outputId": "54e39858-e4ad-4b76-a229-7b833a1ced42"
      },
      "source": [
        "def pvalue_func(first_path, second_path):\n",
        "  if stats.ttest_ind(similar_location[similar_location.PULocationID == first_path]['trip_time'], similar_location[similar_location.PULocationID == second_path]['trip_time'])[1] > 0.05:\n",
        "    return True\n",
        "  else:\n",
        "    return False\n",
        "\n",
        "paths = [48, 236, 237, 239, 264]\n",
        "\n",
        "print('Проверка истинности гипотез о равенстве среднего времени для маршруторв: ')\n",
        "for i in range(5):\n",
        "  for j in range(i+1, 5):\n",
        "    print(paths[i],' и ', paths[j],': ', pvalue_func(paths[i], paths[j]))\n",
        "\n"
      ],
      "execution_count": null,
      "outputs": [
        {
          "output_type": "stream",
          "text": [
            "Проверка истинности гипотез о равенстве среднего времени для маршруторв: \n",
            "48  и  236 :  True\n",
            "48  и  237 :  True\n",
            "48  и  239 :  True\n",
            "48  и  264 :  False\n",
            "236  и  237 :  True\n",
            "236  и  239 :  True\n",
            "236  и  264 :  False\n",
            "237  и  239 :  False\n",
            "237  и  264 :  False\n",
            "239  и  264 :  False\n"
          ],
          "name": "stdout"
        }
      ]
    },
    {
      "cell_type": "markdown",
      "metadata": {
        "id": "izlOUQpYCiyu"
      },
      "source": [
        "##4. Загрузка данных в таблицу."
      ]
    },
    {
      "cell_type": "code",
      "metadata": {
        "id": "8xjaDrdwDQHD"
      },
      "source": [
        "import psycopg2\n",
        "DB_HOST = '89.223.95.138'\n",
        "DB_USER = 'student_19'\n",
        "DB_USER_PASSWORD = 'student_19'\n",
        "DB_NAME = 'student_19'\n",
        "conn = psycopg2.connect(host=DB_HOST, user=DB_USER, password=DB_USER_PASSWORD, dbname=DB_NAME)"
      ],
      "execution_count": 43,
      "outputs": []
    },
    {
      "cell_type": "code",
      "metadata": {
        "id": "fljoZgnyJDXv"
      },
      "source": [
        "from sqlalchemy import create_engine\n",
        "engine = create_engine('postgresql://%s:%s@%s:5432/%s' %(DB_USER, DB_USER_PASSWORD, DB_HOST, DB_NAME))\n",
        "\n",
        "data[1100000:1200000].to_sql(\"yellow_tripdata\", engine, \n",
        "                 if_exists='append',\n",
        "                 index=False,\n",
        "                 method='multi')"
      ],
      "execution_count": 17,
      "outputs": []
    }
  ]
}